{
 "cells": [
  {
   "cell_type": "code",
   "execution_count": 34,
   "metadata": {},
   "outputs": [],
   "source": [
    "import pandas as pd\n",
    "import re"
   ]
  },
  {
   "cell_type": "code",
   "execution_count": null,
   "metadata": {},
   "outputs": [],
   "source": [
    "# Function to normalize a DataFrame\n",
    "def normalize_data(data):\n",
    "\n",
    "    # Remove special characters from all string columns\n",
    "    data = data.apply(lambda x: x.str.replace(r'�', '', regex=True) if x.dtype == \"object\" else x)\n",
    "\n",
    "    # Strip leading and trailing whitespaces in string columns\n",
    "    data = data.apply(lambda x: x.str.strip() if x.dtype == \"object\" else x)\n",
    "\n",
    "    # Drop rows with missing values\n",
    "    data.dropna(inplace=True)\n",
    "\n",
    "    # Drop duplicate rows\n",
    "    data.drop_duplicates(inplace=True)\n",
    "\n",
    "    # Reset index to maintain order\n",
    "    data.reset_index(drop=True, inplace=True)\n",
    "\n",
    "    return data"
   ]
  },
  {
   "cell_type": "code",
   "execution_count": 36,
   "metadata": {},
   "outputs": [],
   "source": [
    "def extract_subject(text):\n",
    "    return re.sub(r'Subject: .*?(\\n|$)', '', text, flags=re.IGNORECASE).strip()"
   ]
  },
  {
   "cell_type": "code",
   "execution_count": 37,
   "metadata": {},
   "outputs": [],
   "source": [
    "# Function to change column data\n",
    "def change_column_data(data):\n",
    "    # Change column names\n",
    "    data.columns = ['is_spam', 'text']\n",
    "\n",
    "    # Normalize data\n",
    "    data = normalize_data(data)\n",
    "\n",
    "    # Change column data\n",
    "    data['is_spam'] = data['is_spam'].map({'ham': 0, 'spam': 1, 0: 0, 1: 1})\n",
    "    \n",
    "    return data"
   ]
  },
  {
   "cell_type": "code",
   "execution_count": 38,
   "metadata": {},
   "outputs": [],
   "source": [
    "def get_url_data(url_data):\n",
    "    # Change column names\n",
    "    url_data = url_data[['result', 'url']]\n",
    "\n",
    "    # Normalize data\n",
    "    url_data = change_column_data(url_data)\n",
    "\n",
    "    return url_data"
   ]
  },
  {
   "cell_type": "code",
   "execution_count": 39,
   "metadata": {},
   "outputs": [],
   "source": [
    "# Function to get email data\n",
    "def get_email_data(email_data):\n",
    "    # Load email data\n",
    "    # print(email_data[['label', 'text']].head())\n",
    "    email_data = email_data[['label', 'text']]\n",
    "\n",
    "    # Change column data\n",
    "    email_data = change_column_data(email_data)\n",
    "\n",
    "    # Extract subject\n",
    "    email_data['subject'] = email_data['text'].apply(extract_subject)\n",
    "\n",
    "    return email_data"
   ]
  },
  {
   "cell_type": "code",
   "execution_count": 40,
   "metadata": {},
   "outputs": [],
   "source": [
    "# Function to get sms data\n",
    "def get_sms_data(sms_data):\n",
    "    sms_data = sms_data[['v1', 'v2']]\n",
    "\n",
    "    # Change column data\n",
    "    sms_data = change_column_data(sms_data)\n",
    "    \n",
    "    return sms_data"
   ]
  },
  {
   "cell_type": "code",
   "execution_count": 41,
   "metadata": {},
   "outputs": [],
   "source": [
    "# Function to get youtube data\n",
    "def get_youtube_data(youtube_data):\n",
    "    # Load youtube data\n",
    "    youtube_data = youtube_data[['CLASS', 'CONTENT']]\n",
    "\n",
    "    # Change column data\n",
    "    youtube_data = change_column_data(youtube_data)\n",
    "\n",
    "    return youtube_data"
   ]
  },
  {
   "cell_type": "code",
   "execution_count": 42,
   "metadata": {},
   "outputs": [],
   "source": [
    "\n",
    "# Function to combine data\n",
    "# combine data i want it to take unlimited amount of fike and combine them\n",
    "def combine_data(all_data):\n",
    "    # Loop through an concatate data\n",
    "    data = pd.concat(all_data, ignore_index=True)\n",
    "\n",
    "    return data"
   ]
  },
  {
   "cell_type": "code",
   "execution_count": 43,
   "metadata": {},
   "outputs": [],
   "source": [
    "# Saves data\n",
    "def save_data(data, output_file):\n",
    "    # Save data\n",
    "    data.to_csv(output_file, index=False)"
   ]
  },
  {
   "cell_type": "code",
   "execution_count": 44,
   "metadata": {},
   "outputs": [],
   "source": [
    "# Load datasets\n",
    "# email_dataset_1 = get_email_data(pd.read_csv('data/email_dataset_1.csv'))\n",
    "# email_dataset_2 = get_email_data(pd.read_csv('data/email_dataset_2.csv'))\n",
    "# email_dataset_3 = get_email_data(pd.read_csv('data/email_dataset_3.csv'))\n",
    "# email_dataset_4 = get_email_data(pd.read_csv('data/email_dataset_4.csv'))\n",
    "# text_dataset_1 = get_sms_data(pd.read_csv('data/sms_dataset_1.csv')) \n",
    "# text_dataset_2 = get_sms_data(pd.read_csv('data/sms_dataset_2.csv')) \n",
    "# youtube_dataset = get_youtube_data(pd.read_csv('data/youtube_comments_dataset.csv'))\n",
    "url_dataset = get_url_data(pd.read_csv('data/url_dataset.csv'))\n",
    "\n",
    "# Combine datasets\n",
    "data = combine_data([url_dataset])\n",
    "\n",
    "# Save data\n",
    "save_data(data, 'data/spam_data.csv')"
   ]
  }
 ],
 "metadata": {
  "kernelspec": {
   "display_name": "Python 3",
   "language": "python",
   "name": "python3"
  },
  "language_info": {
   "codemirror_mode": {
    "name": "ipython",
    "version": 3
   },
   "file_extension": ".py",
   "mimetype": "text/x-python",
   "name": "python",
   "nbconvert_exporter": "python",
   "pygments_lexer": "ipython3",
   "version": "3.10.1"
  }
 },
 "nbformat": 4,
 "nbformat_minor": 2
}
