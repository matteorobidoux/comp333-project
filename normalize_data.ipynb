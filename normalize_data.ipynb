{
 "cells": [
  {
   "cell_type": "code",
   "execution_count": 18,
   "metadata": {},
   "outputs": [],
   "source": [
    "import pandas as pd"
   ]
  },
  {
   "cell_type": "code",
   "execution_count": 19,
   "metadata": {},
   "outputs": [],
   "source": [
    "# Function to normalize data\n",
    "def normalize_data(data):\n",
    "    \n",
    "    # Remove special characters\n",
    "    data = data.replace(r'�', '', regex=True)\n",
    "\n",
    "    # Remove leading and trailing whitespaces\n",
    "    data = data.apply(lambda x: x.str.strip() if x.dtype == \"object\" else x)\n",
    "\n",
    "    # Remove rows with missing values\n",
    "    data.dropna(inplace=True)\n",
    "\n",
    "    # Remove duplicates\n",
    "    data.drop_duplicates(inplace=True)\n",
    "    \n",
    "    # Reset index\n",
    "    data.reset_index(drop=True, inplace=True)\n",
    "    \n",
    "    # print(data.head())\n",
    "\n",
    "    return data"
   ]
  },
  {
   "cell_type": "code",
   "execution_count": 20,
   "metadata": {},
   "outputs": [],
   "source": [
    "# Function to change column data\n",
    "def change_column_data(data):\n",
    "    # Change column names\n",
    "    data.columns = ['is_spam', 'text']\n",
    "\n",
    "    # print(data.head())\n",
    "\n",
    "    # Normalize data\n",
    "    data = normalize_data(data)\n",
    "\n",
    "    # Change column data\n",
    "    data['is_spam'] = data['is_spam'].map({'ham': 0, 'spam': 1, 0: 0, 1: 1})\n",
    "    \n",
    "    return data"
   ]
  },
  {
   "cell_type": "code",
   "execution_count": 21,
   "metadata": {},
   "outputs": [],
   "source": [
    "# Function to get email data\n",
    "def get_email_data(email_data):\n",
    "    # Load email data\n",
    "    # print(email_data[['label', 'text']].head())\n",
    "    email_data = email_data[['label', 'text']]\n",
    "\n",
    "    # Change column data\n",
    "    email_data = change_column_data(email_data)\n",
    "\n",
    "    return email_data"
   ]
  },
  {
   "cell_type": "code",
   "execution_count": 22,
   "metadata": {},
   "outputs": [],
   "source": [
    "# Function to get sms data\n",
    "def get_sms_data(sms_data):\n",
    "    sms_data = sms_data[['v1', 'v2']]\n",
    "\n",
    "    # Change column data\n",
    "    sms_data = change_column_data(sms_data)\n",
    "    \n",
    "    return sms_data"
   ]
  },
  {
   "cell_type": "code",
   "execution_count": 23,
   "metadata": {},
   "outputs": [],
   "source": [
    "# Function to get youtube data\n",
    "def get_youtube_data(youtube_data):\n",
    "    # Load youtube data\n",
    "    youtube_data = youtube_data[['CLASS', 'CONTENT']]\n",
    "\n",
    "    # Change column data\n",
    "    youtube_data = change_column_data(youtube_data)\n",
    "\n",
    "    return youtube_data"
   ]
  },
  {
   "cell_type": "code",
   "execution_count": 24,
   "metadata": {},
   "outputs": [],
   "source": [
    "\n",
    "# Function to combine data\n",
    "# combine data i want it to take unlimited amount of fike and combine them\n",
    "def combine_data(all_data):\n",
    "    # Loop through an concatate data\n",
    "    data = pd.concat(all_data, ignore_index=True)\n",
    "\n",
    "    return data"
   ]
  },
  {
   "cell_type": "code",
   "execution_count": 25,
   "metadata": {},
   "outputs": [],
   "source": [
    "# Saves data\n",
    "def save_data(data, output_file):\n",
    "    # Save data\n",
    "    data.to_csv(output_file, index=False)"
   ]
  },
  {
   "cell_type": "code",
<<<<<<< HEAD
   "execution_count": 26,
=======
   "execution_count": null,
>>>>>>> 26f69e5 (remove heavy files)
   "metadata": {},
   "outputs": [],
   "source": [
    "# Load datasets\n",
    "email_dataset_1 = get_email_data(pd.read_csv('data/email_dataset_1.csv'))\n",
    "email_dataset_2 = get_email_data(pd.read_csv('data/email_dataset_2.csv'))\n",
    "email_dataset_3 = get_email_data(pd.read_csv('data/email_dataset_3.csv'))\n",
    "email_dataset_4 = get_email_data(pd.read_csv('data/email_dataset_4.csv'))\n",
    "text_dataset_1 = get_sms_data(pd.read_csv('data/sms_dataset_1.csv')) \n",
    "text_dataset_2 = get_sms_data(pd.read_csv('data/sms_dataset_2.csv'))\n",
    "text_dataset_3 = get_sms_data(pd.read_csv('data/sms_dataset_3.csv'))\n",
    "youtube_dataset = get_youtube_data(pd.read_csv('data/youtube_comments_dataset.csv'))\n",
    "\n",
    "# Combine datasets\n",
<<<<<<< HEAD
    "data = combine_data([text_dataset_1, text_dataset_2, text_dataset_3])\n",
    "\n",
    "# Save data\n",
    "save_data(data, 'data/spam_data.csv')"
=======
    "sms_data = combine_data([text_dataset_1, text_dataset_2])\n",
    "email_data = combine_data([email_dataset_1, email_dataset_2, email_dataset_3, email_dataset_4])\n",
    "comments_data = combine_data([youtube_dataset])\n",
    "\n",
    "# general_data = combine_data([sms_data, email_data, comments_data])\n",
    "\n",
    "# Save data\n",
    "save_data(sms_data, 'data/sms_data.csv')\n",
    "save_data(email_data, 'data/email_data.csv')\n",
    "save_data(comments_data, 'data/comments_data.csv')\n",
    "# save_data(general_data, 'data/general_data.csv')"
>>>>>>> 26f69e5 (remove heavy files)
   ]
  }
 ],
 "metadata": {
  "kernelspec": {
   "display_name": "Python 3",
   "language": "python",
   "name": "python3"
  },
  "language_info": {
   "codemirror_mode": {
    "name": "ipython",
    "version": 3
   },
   "file_extension": ".py",
   "mimetype": "text/x-python",
   "name": "python",
   "nbconvert_exporter": "python",
   "pygments_lexer": "ipython3",
   "version": "3.10.12"
  }
 },
 "nbformat": 4,
 "nbformat_minor": 2
}
