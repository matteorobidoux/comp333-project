{
 "cells": [
  {
   "cell_type": "code",
   "execution_count": null,
   "metadata": {},
   "outputs": [
    {
     "name": "stdout",
     "output_type": "stream",
     "text": [
      "   is_spam                                               text\n",
      "0        1  Save up to 70% on Life Insurance.\\nWhy Spend M...\n",
      "1        1  1) Fight The Risk of Cancer!\\nhttp://www.adcli...\n",
      "2        1  1) Fight The Risk of Cancer!\\nhttp://www.adcli...\n",
      "3        1  ##############################################...\n",
      "4        1  I thought you might like these:\\n1) Slim Down ...\n",
      "Fitting 3 folds for each of 12 candidates, totalling 36 fits\n"
     ]
    }
   ],
   "source": [
    "import pandas as pd\n",
    "from sklearn.model_selection import train_test_split, GridSearchCV\n",
    "from sklearn.feature_extraction.text import TfidfVectorizer\n",
    "from sklearn.ensemble import RandomForestClassifier\n",
    "from sklearn.pipeline import Pipeline\n",
    "from sklearn.metrics import classification_report, accuracy_score\n",
    "import joblib\n",
    "\n",
    "# Load dataset\n",
    "file_path = 'data/spam_data.csv'\n",
    "data = pd.read_csv(file_path)\n",
    "\n",
    "# Inspect dataset\n",
    "data.columns = [col.strip().lower() for col in data.columns]  # Normalize column names\n",
    "print(data.head())\n",
    "\n",
    "\n",
    "data['text'] = data['text'].fillna('').astype(str)\n",
    "\n",
    "# Split dataset\n",
    "X = data['text']\n",
    "y = data['is_spam']\n",
    "X_train, X_test, y_train, y_test = train_test_split(X, y, test_size=0.2, random_state=42, stratify=y)\n",
    "\n",
    "# Build pipeline with RandomForest\n",
    "pipeline = Pipeline([\n",
    "    ('tfidf', TfidfVectorizer(stop_words='english', max_df=0.9, min_df=5, ngram_range=(1, 2))),\n",
    "    ('clf', RandomForestClassifier(random_state=42))\n",
    "])\n",
    "\n",
    "# Hyperparameter tuning\n",
    "param_grid = {\n",
    "    'clf__n_estimators': [100, 200],\n",
    "    'clf__max_depth': [None, 10, 20],\n",
    "    'clf__min_samples_split': [2, 5]\n",
    "}\n",
    "grid_search = GridSearchCV(pipeline, param_grid, cv=3, n_jobs=-1, verbose=1)\n",
    "grid_search.fit(X_train, y_train)\n",
    "\n",
    "# Best model\n",
    "best_model = grid_search.best_estimator_\n",
    "print(f'Best Params: {grid_search.best_params_}')\n",
    "\n",
    "# Evaluate model\n",
    "y_pred = best_model.predict(X_test)\n",
    "accuracy = accuracy_score(y_test, y_pred)\n",
    "report = classification_report(y_test, y_pred)\n",
    "print(f'Accuracy: {accuracy:.2f}')\n",
    "print(report)\n",
    "\n",
    "# Save model\n",
    "model_path = 'spam_classifier_model.pkl'\n",
    "joblib.dump(best_model, model_path)\n",
    "print(f'Model saved to {model_path}')\n"
   ]
  }
 ],
 "metadata": {
  "kernelspec": {
   "display_name": "Python 3",
   "language": "python",
   "name": "python3"
  },
  "language_info": {
   "codemirror_mode": {
    "name": "ipython",
    "version": 3
   },
   "file_extension": ".py",
   "mimetype": "text/x-python",
   "name": "python",
   "nbconvert_exporter": "python",
   "pygments_lexer": "ipython3",
   "version": "3.10.12"
  }
 },
 "nbformat": 4,
 "nbformat_minor": 2
}
