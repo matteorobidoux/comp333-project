{
 "cells": [
  {
   "cell_type": "code",
   "execution_count": null,
   "metadata": {},
   "outputs": [
    {
     "name": "stdout",
     "output_type": "stream",
     "text": [
      "Prediction: Spam\n"
     ]
    }
   ],
   "source": [
    "import joblib\n",
    "\n",
    "# Load the trained model\n",
    "model_path = 'spam_classifier_model.pkl'\n",
    "model = joblib.load(model_path)\n",
    "\n",
    "# Predict function\n",
    "def predict_spam(text):\n",
    "    prediction = model.predict([text])[0]\n",
    "    return 'Spam' if prediction else 'Not Spam'\n",
    "\n",
    "# Example usage\n",
    "if __name__ == \"__main__\":\n",
    "    example_text = 'Hey Virgin Plus Member, new offer alert! Visit mb.vpc.ca/41bbxSS to get your first 4 months of RDS for just $59.97! ( vpc.ca/manageprefs )'\n",
    "    print(f'Prediction: {predict_spam(example_text)}')\n"
   ]
  }
 ],
 "metadata": {
  "kernelspec": {
   "display_name": "Python 3",
   "language": "python",
   "name": "python3"
  },
  "language_info": {
   "codemirror_mode": {
    "name": "ipython",
    "version": 3
   },
   "file_extension": ".py",
   "mimetype": "text/x-python",
   "name": "python",
   "nbconvert_exporter": "python",
   "pygments_lexer": "ipython3",
   "version": "3.10.12"
  }
 },
 "nbformat": 4,
 "nbformat_minor": 2
}
