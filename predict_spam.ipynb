{
 "cells": [
  {
   "cell_type": "code",
   "execution_count": null,
   "metadata": {},
   "outputs": [
    {
     "name": "stdout",
     "output_type": "stream",
     "text": [
      "This text is 63.50% likely to be Not Spam.\n"
     ]
    }
   ],
   "source": [
    "import joblib\n",
    "import numpy as np\n",
    "\n",
    "# Load the trained model\n",
    "model_path = 'spam_classifier_model.pkl'\n",
    "model = joblib.load(model_path)\n",
    "\n",
    "# Predict function\n",
    "def predict_spam(text):\n",
    "    proba = model.predict_proba([text])[0]\n",
    "    spam_proba = proba[1] * 100\n",
    "    not_spam_proba = proba[0] * 100\n",
    "    if spam_proba > not_spam_proba:\n",
    "        return f'This text is {spam_proba:.2f}% likely to be Spam.'\n",
    "    else:\n",
    "        return f'This text is {not_spam_proba:.2f}% likely to be Not Spam.'\n",
    "\n",
    "# Example usage\n",
    "if __name__ == \"__main__\":\n",
    "    example_text = \"\"\"Reminder: You have one day left (until 01/07) to reset your Apple Account password.\n",
    "To complete this, go to www.apple.com/recover\"\"\"\n",
    "    print(predict_spam(example_text))"
   ]
  }
 ],
 "metadata": {
  "kernelspec": {
   "display_name": "Python 3",
   "language": "python",
   "name": "python3"
  },
  "language_info": {
   "codemirror_mode": {
    "name": "ipython",
    "version": 3
   },
   "file_extension": ".py",
   "mimetype": "text/x-python",
   "name": "python",
   "nbconvert_exporter": "python",
   "pygments_lexer": "ipython3",
   "version": "3.10.12"
  }
 },
 "nbformat": 4,
 "nbformat_minor": 2
}
