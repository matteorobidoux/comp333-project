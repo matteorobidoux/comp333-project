{
 "cells": [
  {
   "cell_type": "code",
   "execution_count": 41,
   "metadata": {},
   "outputs": [],
   "source": [
    "# Import required libraries\n",
    "import joblib\n",
    "from urllib.parse import urlparse, parse_qs"
   ]
  },
  {
   "cell_type": "code",
   "execution_count": 42,
   "metadata": {},
   "outputs": [],
   "source": [
    "# Load the trained model\n",
    "model_path = 'url_model.pkl'\n",
    "model = joblib.load(model_path)"
   ]
  },
  {
   "cell_type": "code",
   "execution_count": 43,
   "metadata": {},
   "outputs": [],
   "source": [
    "# Feature extraction function with high-impact features only\n",
    "def extract_url_features(url):\n",
    "    parsed_url = urlparse(url)\n",
    "    domain_parts = parsed_url.netloc.split('.')\n",
    "    query_params = parse_qs(parsed_url.query)\n",
    "\n",
    "    # Define features dictionary\n",
    "    features = {\n",
    "        # Basic URL features\n",
    "        'url_length': len(url),\n",
    "        'num_dots': url.count('.'),\n",
    "\n",
    "        # Keyword-based features\n",
    "        'contains_free': int('free' in url.lower()),\n",
    "        'contains_click': int('click' in url.lower()),\n",
    "        'contains_offer': int('offer' in url.lower()),\n",
    "        'contains_account': int('account' in url.lower()),\n",
    "        'contains_auth': int('auth' in url.lower()),\n",
    "        'contains_login': int('login' in url.lower()),\n",
    "        'contains_brand': int(any(brand in url.lower() for brand in ['paypal', 'google', 'amazon', 'facebook'])),\n",
    "\n",
    "        # Domain and subdomain features\n",
    "        'domain_length': len(domain_parts[-2]) if len(domain_parts) > 1 else 0,\n",
    "        'subdomain_length': len(domain_parts[0]) if len(domain_parts) > 2 else 0,\n",
    "        'suspicious_tld': int(domain_parts[-1] in ['top', 'xyz', 'click', 'club', 'biz', 'info', 'work', 'zip', 'mobi']),\n",
    "\n",
    "        # Redirect and suspicious path features\n",
    "        'has_redirect': int('?q=' in url or '?url=' in url or '?redirect=' in url),\n",
    "        'suspicious_subdomain': int(any(keyword in parsed_url.netloc for keyword in ['auth', 'login', 'secure'])),\n",
    "        'num_redirects': url.count('http') - 1,  # Count number of redirects\n",
    "\n",
    "        # Path and query features\n",
    "        'path_length': len(parsed_url.path),\n",
    "        'query_length': len(parsed_url.query),\n",
    "        'num_query_params': len(query_params),\n",
    "    }\n",
    "    \n",
    "    # Return the feature values as a list\n",
    "    return list(features.values())"
   ]
  },
  {
   "cell_type": "code",
   "execution_count": 44,
   "metadata": {},
   "outputs": [],
   "source": [
    "# Function to predict if a URL is spam or not\n",
    "def predict_spam(url):\n",
    "    # Extract features from the URL\n",
    "    features = extract_url_features(url)\n",
    "    \n",
    "    # Predict the probability of the URL being spam\n",
    "    proba = model.predict_proba([features])[0]\n",
    "    \n",
    "    # Get the probabilities for spam and not spam\n",
    "    spam_proba = proba[1] * 100\n",
    "    not_spam_proba = proba[0] * 100\n",
    "    \n",
    "    # Return the result based on higher probability\n",
    "    if spam_proba > not_spam_proba:\n",
    "        return f'This URL is {spam_proba:.2f}% likely to be Spam.'\n",
    "    else:\n",
    "        return f'This URL is {not_spam_proba:.2f}% likely to be Not Spam.'"
   ]
  },
  {
   "cell_type": "code",
   "execution_count": 52,
   "metadata": {},
   "outputs": [
    {
     "name": "stdout",
     "output_type": "stream",
     "text": [
      "This URL is 99.94% likely to be Not Spam.\n"
     ]
    }
   ],
   "source": [
    "# Main block for running the script\n",
    "if __name__ == \"__main__\":\n",
    "    # Example URL to check\n",
    "    url = 'https://www.google.com'\n",
    "    \n",
    "    # Get the prediction result and print\n",
    "    print(predict_spam(url))"
   ]
  }
 ],
 "metadata": {
  "kernelspec": {
   "display_name": "Python 3",
   "language": "python",
   "name": "python3"
  },
  "language_info": {
   "codemirror_mode": {
    "name": "ipython",
    "version": 3
   },
   "file_extension": ".py",
   "mimetype": "text/x-python",
   "name": "python",
   "nbconvert_exporter": "python",
   "pygments_lexer": "ipython3",
   "version": "3.10.1"
  }
 },
 "nbformat": 4,
 "nbformat_minor": 2
}
